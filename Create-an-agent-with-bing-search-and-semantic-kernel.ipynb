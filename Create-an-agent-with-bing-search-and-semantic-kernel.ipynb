{
 "cells": [
  {
   "cell_type": "markdown",
   "metadata": {},
   "source": [
    "# Create a Bing Search agent with Azure AI Agent Service and Semantic Kernel \n",
    "\n",
    "This notebook demonstrates how to create a Bing Agent using Semantic Kernel. It includes a custom monkey-patch for citation URL extraction and shows how to simulate a conversation with an existing Azure AI Agent."
   ]
  },
  {
   "cell_type": "markdown",
   "metadata": {},
   "source": [
    "## Prerequisties\n",
    "\n",
    "1. **Complete the agent setup and create a project connection to a Bing  resource**\n",
    "\n",
    "    See README for details.\n",
    "\n",
    "2. **Install dependencies**"
   ]
  },
  {
   "cell_type": "code",
   "execution_count": 18,
   "metadata": {},
   "outputs": [
    {
     "name": "stdout",
     "output_type": "stream",
     "text": [
      "Note: you may need to restart the kernel to use updated packages.\n",
      "Note: you may need to restart the kernel to use updated packages.\n",
      "Note: you may need to restart the kernel to use updated packages.\n"
     ]
    }
   ],
   "source": [
    "%pip install -q azure-ai-projects\n",
    "%pip install -q azure-identity\n",
    "%pip install -q semantic-kernel[azure]"
   ]
  },
  {
   "cell_type": "markdown",
   "metadata": {},
   "source": [
    "## Step 1: Import required libraries \n"
   ]
  },
  {
   "cell_type": "code",
   "execution_count": 19,
   "metadata": {},
   "outputs": [],
   "source": [
    "import asyncio\n",
    "\n",
    "from azure.identity.aio import DefaultAzureCredential\n",
    "from azure.ai.projects.models import BingGroundingTool\n",
    "\n",
    "\n",
    "from semantic_kernel.agents.azure_ai import AzureAIAgent, AzureAIAgentSettings, agent_content_generation\n",
    "from semantic_kernel.contents import AuthorRole"
   ]
  },
  {
   "cell_type": "markdown",
   "metadata": {},
   "source": [
    "## Step 2: Implement Custom Annotation Function for Bing Citation URLs\n",
    "Here, we override the default annotation processing function to capture citation URLs when they're returned by the agent. The new function checks if the annotation has the required attributes (start_index and end_index) and, if it’s a URL citation, extracts and prints the Bing Search URL. The semantic kernel Agent SDK only supports file search annotations currently."
   ]
  },
  {
   "cell_type": "code",
   "execution_count": 20,
   "metadata": {},
   "outputs": [
    {
     "name": "stdout",
     "output_type": "stream",
     "text": [
      "Bing citation patch function run\n"
     ]
    }
   ],
   "source": [
    "# Global variable to store citation URLs\n",
    "citation_url = \"No citations available\"\n",
    "\n",
    "# Save the original function\n",
    "original_generate_annotation_content = agent_content_generation.generate_annotation_content\n",
    "def patched_generate_annotation_content(annotation):\n",
    "    global citation_url\n",
    "    print(\"Patched function called\")  # Debug print\n",
    "    \n",
    "    # Ensure that the annotation has both 'start_index' and 'end_index' attributes.\n",
    "    # print(f\"# Annotation before: '{annotation}'\")\n",
    "    if not hasattr(annotation, \"start_index\"):\n",
    "        setattr(annotation, \"start_index\", None)\n",
    "        # print(f\"# Annotation set start_index: '{annotation}'\")\n",
    "    if not hasattr(annotation, \"end_index\"):\n",
    "        setattr(annotation, \"end_index\", None)\n",
    "        # print(f\"# Annotation set end_index: '{annotation}'\")\n",
    "\n",
    "    # print(f\"# Annotation after: '{annotation}'\")\n",
    "    # Check if this is a URL citation annotation and expose the URL\n",
    "    if hasattr(annotation, 'type') and annotation.type == 'url_citation':\n",
    "        try:\n",
    "            citation_url = annotation['url_citation']['url']\n",
    "            # print(f\"# Citation url: '{citation_url}'\")\n",
    "            return annotation\n",
    "        except Exception as e:\n",
    "            print(f\"Error processing citation: {e}\")\n",
    "    # Return the annotation as is for other annotation types\n",
    "    return annotation\n",
    "\n",
    "# Apply the monkey-patch\n",
    "agent_content_generation.generate_annotation_content = patched_generate_annotation_content\n",
    "\n",
    "print(\"Bing citation patch function run\")  # Debug print"
   ]
  },
  {
   "cell_type": "markdown",
   "metadata": {},
   "source": [
    "## Step 3: Conversation Setup \n",
    "\n",
    "1. **Retrieve Bing Connection and Initialize Tool:**\n",
    " \n",
    "    First, the program retrieves your project's Bing connection and initializes the Grounding with Bing Search tool.\n",
    "\n",
    "1. **Define an Agent with the Bing Tool Enabled**\n",
    "\n",
    "    Next, an agent definition is created using Azure AI Agent Service, and the Bing Search tool is attached.\n",
    "\n",
    "1. **Initialize Semantic Kernel Agent:**\n",
    "\n",
    "    Then, the semantic kernel agent is initialized using the defintion.\n",
    "\n",
    "1.  **Simulate a Conversation:**\n",
    "    \n",
    "    Finally, a conversation thread is created. A user message is sent to the agent, which generates a response. The agent's reply is displayed along with any citation URLs captured by the patched annotation function.\n"
   ]
  },
  {
   "cell_type": "code",
   "execution_count": 21,
   "metadata": {},
   "outputs": [],
   "source": [
    "# Simulate a conversation with the agent\n",
    "USER_INPUTS = [\n",
    "    \"What is the weather in seattle?\",\n",
    "]"
   ]
  },
  {
   "cell_type": "code",
   "execution_count": 22,
   "metadata": {},
   "outputs": [],
   "source": [
    "ai_agent_settings = AzureAIAgentSettings.create()\n",
    "async def main() -> None:\n",
    "    async with (\n",
    "        DefaultAzureCredential() as creds,\n",
    "        AzureAIAgent.create_client(credential=creds) as client,\n",
    "    ):\n",
    "        \n",
    "         # Get your Bing connection        \n",
    "        bing_connection = await client.connections.get(\n",
    "                connection_name=\"decdemobing\", include_credentials=True  # Optional. Defaults to \"False\"\n",
    "        )\n",
    "        conn_id = bing_connection.id\n",
    "        # print(conn_id)\n",
    "\n",
    "        # Initialize the Bing Search tool\n",
    "        bing = BingGroundingTool(connection_id=conn_id)\n",
    "        \n",
    "        # 1. Create an agent using Azure AI agent service\n",
    "        agent_definition = await client.agents.create_agent(\n",
    "            model=ai_agent_settings.model_deployment_name,\n",
    "            name=\"BingAgent\",\n",
    "            instructions=\"Answer the user's questions.\",\n",
    "            tools=bing.definitions,\n",
    "            headers={\"x-ms-enable-preview\": \"true\"},\n",
    "        )\n",
    "        print(\"Created agent definition\")\n",
    "\n",
    "        # 2. Create a Semantic Kernel agent for the Azure AI agent\n",
    "        agent = AzureAIAgent(\n",
    "            client=client,\n",
    "            definition=agent_definition,\n",
    "        )\n",
    "\n",
    "        # 3. Create a new thread on the Azure AI agent service\n",
    "        thread = await client.agents.create_thread()\n",
    "        try:\n",
    "            for user_input in USER_INPUTS:\n",
    "                \n",
    "                # 4. Add the user input as a chat message\n",
    "                await agent.add_chat_message(thread_id=thread.id, message=user_input)\n",
    "                print(f\"# User: '{user_input}'\")\n",
    "\n",
    "\n",
    "                # 5. Invoke the agent for the specified thread for response\n",
    "                response = await agent.get_response(thread_id=thread.id)\n",
    "                print(f\"# {response.name}: {response}\")\n",
    "\n",
    "                 # Retrieve run step details to get Bing Search query link\n",
    "                 # This code is not working so it is commented out\n",
    "                # runs = await client.agents.list_runs(thread_id=thread.id)\n",
    "                # print(f\"# The most recent run: '{runs}'\")\n",
    "\n",
    "                # run_id = runs['last_id']\n",
    "                # print(f\"# The most recent run_id: '{run_id}'\")\n",
    "\n",
    "\n",
    "                # run_steps = await client.agents.list_run_steps(run_id = run_id, thread_id=thread.id)\n",
    "                # for run_step in run_steps['data']:\n",
    "                #     if 'bing_search_query' in run_step:\n",
    "                #         search_query = run_step['bing_search_query']\n",
    "                #         bing_search_url = f\"https://www.bing.com/search?q={search_query.replace(' ', '+')}\"\n",
    "                #         print(f\"Bing Search URL: {bing_search_url}\")\n",
    "                # Print the captured citation URL\n",
    "                print(f\"Citation URL: {citation_url}\")\n",
    "\n",
    "\n",
    "        finally:\n",
    "            # 6. Cleanup: Delete the thread and agent\n",
    "            await client.agents.delete_thread(thread.id)\n",
    "            # Do not clean up the assistant so it can be used again"
   ]
  },
  {
   "cell_type": "code",
   "execution_count": null,
   "metadata": {},
   "outputs": [],
   "source": [
    "await main()\n"
   ]
  }
 ],
 "metadata": {
  "kernelspec": {
   "display_name": "Python 3",
   "language": "python",
   "name": "python3"
  },
  "language_info": {
   "codemirror_mode": {
    "name": "ipython",
    "version": 3
   },
   "file_extension": ".py",
   "mimetype": "text/x-python",
   "name": "python",
   "nbconvert_exporter": "python",
   "pygments_lexer": "ipython3",
   "version": "3.12.9"
  }
 },
 "nbformat": 4,
 "nbformat_minor": 2
}
